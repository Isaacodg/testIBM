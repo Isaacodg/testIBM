{
 "cells": [
  {
   "cell_type": "markdown",
   "metadata": {},
   "source": [
    "<center>\n",
    "    <img src=\"https://s3-api.us-geo.objectstorage.softlayer.net/cf-courses-data/CognitiveClass/Logos/organization_logo/organization_logo.png\" width=\"300\" alt=\"cognitiveclass.ai logo\"  />\n",
    "</center>\n"
   ]
  },
  {
   "cell_type": "markdown",
   "metadata": {},
   "source": [
    "# My Jupyter Notebook on IBM Watson Studio"
   ]
  },
  {
   "cell_type": "markdown",
   "metadata": {},
   "source": [
    "**Isaac Ouedraogo**"
   ]
  },
  {
   "cell_type": "markdown",
   "metadata": {},
   "source": [
    "Student"
   ]
  },
  {
   "cell_type": "markdown",
   "metadata": {},
   "source": [
    "*I am interested in data science because because data is everywhere today and knowing how to draw insights from its data is very useful.*"
   ]
  },
  {
   "cell_type": "markdown",
   "metadata": {},
   "source": [
    "### The following code will demonstrate the multpilication between 4 and 5"
   ]
  },
  {
   "cell_type": "code",
   "execution_count": 21,
   "metadata": {
    "tags": []
   },
   "outputs": [
    {
     "data": {
      "text/plain": [
       "20"
      ]
     },
     "execution_count": 21,
     "metadata": {},
     "output_type": "execute_result"
    }
   ],
   "source": [
    "a=4 \n",
    "b=5\n",
    "a*b"
   ]
  },
  {
   "cell_type": "markdown",
   "metadata": {},
   "source": [
    "* This \n",
    "* is a\n",
    "* bulleted list\n",
    "\n",
    "1. This\n",
    "2. is a\n",
    "3. numbered list\n",
    "\n",
    "\n",
    "| This        | is           | a table  |\n",
    "| :------------- |:-------------:| :-----|\n",
    "| with      | 3   | columns|\n",
    "| and     | 2      |   rows |\n",
    "\n",
    "\n",
    "This a link : https://www.coursera.org/professional-certificates/ibm-data-science\n",
    "\n",
    "This is an image: \n",
    "![alt text](https://chodm3k64ny45feqq3vyduxb-wpengine.netdna-ssl.com/wp-content/uploads/2019/10/IBM_256.png)\n",
    "\n",
    "\n",
    "Finally this is the\n",
    "***\n",
    "horizontal rule"
   ]
  }
 ],
 "metadata": {
  "kernelspec": {
   "display_name": "Python",
   "language": "python",
   "name": "conda-env-python-py"
  },
  "language_info": {
   "codemirror_mode": {
    "name": "ipython",
    "version": 3
   },
   "file_extension": ".py",
   "mimetype": "text/x-python",
   "name": "python",
   "nbconvert_exporter": "python",
   "pygments_lexer": "ipython3",
   "version": "3.7.12"
  }
 },
 "nbformat": 4,
 "nbformat_minor": 4
}
